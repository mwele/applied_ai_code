{
  "nbformat": 4,
  "nbformat_minor": 0,
  "metadata": {
    "kernelspec": {
      "display_name": "Python 3",
      "language": "python",
      "name": "python3"
    },
    "language_info": {
      "codemirror_mode": {
        "name": "ipython",
        "version": 3
      },
      "file_extension": ".py",
      "mimetype": "text/x-python",
      "name": "python",
      "nbconvert_exporter": "python",
      "pygments_lexer": "ipython3",
      "version": "3.8.3"
    },
    "colab": {
      "name": "day_12.ipynb",
      "provenance": [],
      "collapsed_sections": [],
      "toc_visible": true,
      "include_colab_link": true
    }
  },
  "cells": [
    {
      "cell_type": "markdown",
      "metadata": {
        "id": "view-in-github",
        "colab_type": "text"
      },
      "source": [
        "<a href=\"https://colab.research.google.com/github/mwele/applied_ai_code/blob/master/day_12.ipynb\" target=\"_parent\"><img src=\"https://colab.research.google.com/assets/colab-badge.svg\" alt=\"Open In Colab\"/></a>"
      ]
    },
    {
      "cell_type": "code",
      "metadata": {
        "colab": {
          "base_uri": "https://localhost:8080/",
          "height": 129
        },
        "id": "WrKxIWECKM4z",
        "outputId": "74b01e29-8f5f-4e73-b020-065f2cf73434"
      },
      "source": [
        "pip install kaggle --upgrade\n",
        "import numpy as np\n",
        "import pylab\n",
        "import scipy.stats as stats\n",
        "import matplotlib.pyplot as plt \n",
        "import pandas as pd\n",
        "#d0=pd.read_csv('mnist_train.csv')"
      ],
      "execution_count": 6,
      "outputs": [
        {
          "output_type": "error",
          "ename": "SyntaxError",
          "evalue": "ignored",
          "traceback": [
            "\u001b[0;36m  File \u001b[0;32m\"<ipython-input-6-8b589a67a50f>\"\u001b[0;36m, line \u001b[0;32m1\u001b[0m\n\u001b[0;31m    pip install kaggle --upgrade\u001b[0m\n\u001b[0m              ^\u001b[0m\n\u001b[0;31mSyntaxError\u001b[0m\u001b[0;31m:\u001b[0m invalid syntax\n"
          ]
        }
      ]
    },
    {
      "cell_type": "markdown",
      "metadata": {
        "id": "dncM1N6VLhx7"
      },
      "source": [
        "# New Section"
      ]
    },
    {
      "cell_type": "code",
      "metadata": {
        "id": "NxscDigaKM5O",
        "outputId": "f89fd2bb-3d0e-4b9e-8753-a634c7fc5331"
      },
      "source": [
        "l=d0['label']\n",
        "d=d0.drop(\"label\",axis=1)\n",
        "labels=l.head(60000)\n",
        "data=d.head(60000)\n",
        "from sklearn.preprocessing import StandardScaler\n",
        "standardized_data=StandardScaler().fit_transform(data)\n",
        "print(standardized_data.shape)\n",
        "import numpy as np\n",
        "# find the co-variance matrix which is: A^T*T\n",
        "sampled_data=standardized_data"
      ],
      "execution_count": null,
      "outputs": [
        {
          "name": "stdout",
          "output_type": "stream",
          "text": [
            "(60000, 784)\n"
          ]
        }
      ]
    },
    {
      "cell_type": "code",
      "metadata": {
        "id": "EFfJUWm7KM5b",
        "outputId": "6f086746-c0dd-4c49-b09b-d244495ed8c3"
      },
      "source": [
        "# PCA for dimensionality reduction (non-visualization)\n",
        "from sklearn import decomposition\n",
        "pca=decomposition.PCA()\n",
        "\n",
        "pca.n_components=784\n",
        "pca_data=pca.fit_transform(sampled_data)\n",
        "percentage_var_explained=pca.explained_variance_/np.sum(pca.explained_variance_)\n",
        "cum_var_explained=np.cumsum(percentage_var_explained)\n",
        "#plot the pca spectrum\n",
        "plt.figure(1,figsize=(6,4))\n",
        "plt.clf()\n",
        "plt.plot(cum_var_explained, linewidth=2)\n",
        "plt.axis('tight')\n",
        "plt.grid()\n",
        "plt.xlabel('n_components')\n",
        "plt.ylabel('Cumulative_explained_variance')\n",
        "plt.show()"
      ],
      "execution_count": null,
      "outputs": [
        {
          "data": {
            "image/png": "[encoded data removed]",
            "text/plain": [
              "<Figure size 432x288 with 1 Axes>"
            ]
          },
          "metadata": {
            "needs_background": "light"
          },
          "output_type": "display_data"
        }
      ]
    },
    {
      "cell_type": "code",
      "metadata": {
        "id": "JdxicmMoKM5i"
      },
      "source": [
        "from sklearn.manifold import TSNE\n",
        "#picking the top 1000 points as TSNE takes a lot of time for 60k points\n",
        "labels=l.head(60000)\n",
        "data=d.head(60000)"
      ],
      "execution_count": null,
      "outputs": []
    },
    {
      "cell_type": "code",
      "metadata": {
        "id": "Bmzxk33fKM5l"
      },
      "source": [
        "model=TSNE(n_components=2,random_state=0)\n",
        "#configuring the parameters \n",
        "# the number of components =2\n",
        "# default perplexity =30\n",
        "#default learning arte =200\n",
        "# to get consisted answers random state=0 since tsne is a probablistic algorithm\n",
        "# default max number of iterations for the optimization =1000\n",
        "tnse_data=model.fit_transform(data)\n",
        "#creating a new data frame which help us in plotting the result data\n",
        "tsne_data=np.vstack((tsne_data.T, labels)).T\n",
        "tsne_df=pd.DataFrame(data=tsne_data, columns=(\"Dim_1\",\"Dim_2\",\"label\"))\n",
        "#plotting the result of tsnetGrid()t\n",
        "sns.FaceGrid(tsne_df, hue=\"label\", size=6).map(plt.scatter,\"Dim_1\",\"Dim_2\")\n",
        "plt.show()"
      ],
      "execution_count": null,
      "outputs": []
    },
    {
      "cell_type": "code",
      "metadata": {
        "id": "aLH6Tst5KM5r"
      },
      "source": [
        ""
      ],
      "execution_count": null,
      "outputs": []
    }
  ]
}